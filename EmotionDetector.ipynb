{
 "cells": [
  {
   "cell_type": "markdown",
   "id": "37c5b212",
   "metadata": {},
   "source": [
    "# EMOTION DETECTION BY SHIVAM KUMAR\n",
    "\n",
    "# UNIVERSITY NAME - GRAPHIC ERA UNIVERSITY\n",
    "\n",
    "# UNIV ROLL- 2013501\n",
    "\n",
    "# CLASS ROLL - 52\n",
    "\n",
    "# IMPORTING REQUIRED LIBRARIES\n"
   ]
  },
  {
   "cell_type": "code",
   "execution_count": null,
   "id": "53cb1b11",
   "metadata": {},
   "outputs": [],
   "source": [
    "import cv2\n",
    "import numpy as np\n",
    "from deepface import DeepFace"
   ]
  },
  {
   "cell_type": "code",
   "execution_count": null,
   "id": "3f381c79",
   "metadata": {},
   "outputs": [],
   "source": [
    "face_classifier=cv2.CascadeClassifier(r'haarcascade_frontalface_default.xml')"
   ]
  },
  {
   "cell_type": "code",
   "execution_count": null,
   "id": "596ec508",
   "metadata": {},
   "outputs": [],
   "source": [
    "img=cv2.imread(r'IMG_20191015_002407.jpg')\n",
    "\n",
    "#img = cv2.cvtColor(img,cv2.COLOR_BGR2GRAY)\n",
    "#faces = face_classifier.detectMultiScale(gray)\n",
    "\n",
    "\n",
    "result=DeepFace.analyze(img,actions=['emotion'])\n",
    "print(result)\n",
    "\n",
    "\n"
   ]
  },
  {
   "cell_type": "code",
   "execution_count": null,
   "id": "f2906095",
   "metadata": {},
   "outputs": [],
   "source": [
    "result=DeepFace.analyze(img,actions=['emotion'])"
   ]
  },
  {
   "cell_type": "code",
   "execution_count": null,
   "id": "9f9a3ccc",
   "metadata": {},
   "outputs": [],
   "source": [
    "print(result['dominant_emotion'])"
   ]
  },
  {
   "cell_type": "code",
   "execution_count": null,
   "id": "c839aef0",
   "metadata": {},
   "outputs": [],
   "source": [
    "import cv2\n",
    "from deepface import DeepFace\n",
    "\n",
    "faceCascade = cv2.CascadeClassifier(cv2.data.haarcascades+ 'haarcascade_frontalface_default.xml')\n",
    "\n",
    "cap =cv2.VideoCapture(1)\n",
    "\n",
    "if not cap.isOpened():\n",
    "    cap=cv2.VideoCapture(0)\n",
    "if not cap.isOpened():\n",
    "    raise IOError(\"Cannot open webcam\")\n",
    "\n",
    "while True:\n",
    "    ret,frame = cap.read()\n",
    "    result = DeepFace.analyze(frame,actions=['emotion'])\n",
    "    \n",
    "    gray=cv2.cvtColor(frame,cv2.COLOR_BGR2GRAY)\n",
    "    \n",
    "    faces=faceCascade.detectMultiScale(gray,1.1,4)\n",
    "    \n",
    "    for(x,y,w,h) in faces:\n",
    "        cv2.rectangle(frame,(x,y),(x+w,y+h),(0,255,0),2)\n",
    "    \n",
    "    font = cv2.FONT_HERSHEY_SIMPLEX\n",
    "    \n",
    "    \n",
    "    cv2.putText(frame,\n",
    "               result['dominant_emotion'],\n",
    "               (50,50),\n",
    "               font ,3,\n",
    "               (0,0,255),\n",
    "               2,\n",
    "               cv2.LINE_4)\n",
    "    cv2.imshow('Original video',frame)\n",
    "    \n",
    "    if cv2.waitKey(2) & 0xFF == ord('q'):\n",
    "        break\n",
    "    \n",
    "cap.release()\n",
    "cv2.destroyAllWindows()\n",
    "       "
   ]
  },
  {
   "cell_type": "code",
   "execution_count": null,
   "id": "da6ed776",
   "metadata": {},
   "outputs": [],
   "source": []
  }
 ],
 "metadata": {
  "kernelspec": {
   "display_name": "Python 3",
   "language": "python",
   "name": "python3"
  },
  "language_info": {
   "codemirror_mode": {
    "name": "ipython",
    "version": 3
   },
   "file_extension": ".py",
   "mimetype": "text/x-python",
   "name": "python",
   "nbconvert_exporter": "python",
   "pygments_lexer": "ipython3",
   "version": "3.8.8"
  }
 },
 "nbformat": 4,
 "nbformat_minor": 5
}
